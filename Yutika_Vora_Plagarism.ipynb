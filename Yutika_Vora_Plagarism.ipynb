{
  "nbformat": 4,
  "nbformat_minor": 0,
  "metadata": {
    "colab": {
      "provenance": [],
      "authorship_tag": "ABX9TyOcHi51/tom0NH5ZWrxs46/",
      "include_colab_link": true
    },
    "kernelspec": {
      "name": "python3",
      "display_name": "Python 3"
    },
    "language_info": {
      "name": "python"
    }
  },
  "cells": [
    {
      "cell_type": "markdown",
      "metadata": {
        "id": "view-in-github",
        "colab_type": "text"
      },
      "source": [
        "<a href=\"https://colab.research.google.com/github/yutikavora/plagiarism/blob/main/Yutika_Vora_Plagarism.ipynb\" target=\"_parent\"><img src=\"https://colab.research.google.com/assets/colab-badge.svg\" alt=\"Open In Colab\"/></a>"
      ]
    },
    {
      "cell_type": "code",
      "execution_count": null,
      "metadata": {
        "id": "LzXbBLT6g4ux"
      },
      "outputs": [],
      "source": [
        "f = open(\"new_file.txt\", \"w\")\n",
        "l = \"This is first line. This is second line. This is third line. This is fourth line. This is fivth line. This is sixth line. This is seventh line. This is eigth line. This is ninth line. This is tenth line.\"\n",
        "f.writelines(l)\n",
        "f.close()\n",
        "\n",
        "f = open(\"new_file2.txt\", \"w\")\n",
        "l = \"These are days of the week. This is Monday. This is Tuesday. This will be Wednesday. This is Thursday. This is Friday. This is Saturday. This is Sunday. I will meet you tomorrow. I will meet you next week.\"\n",
        "f.writelines(l)\n",
        "f.close()"
      ]
    },
    {
      "cell_type": "code",
      "source": [
        "def counts_dict(l):\n",
        "  counts = dict()\n",
        "  words = l.split()\n",
        "  for word in words:\n",
        "    if word in counts:\n",
        "      counts[word] +=1\n",
        "    else:\n",
        "      counts[word] = 1\n",
        "  return(counts)\n",
        "\n",
        "f = open(\"new_file.txt\", \"r\")\n",
        "l1 = f.read()\n",
        "dict1 = counts_dict(l1)\n",
        "print(dict1)\n",
        "f.close()\n",
        "f2 = open(\"new_file2.txt\", \"r\")\n",
        "l2 = f2.read()\n",
        "dict2 = counts_dict(l2)\n",
        "print(dict2)\n",
        "f2.close()"
      ],
      "metadata": {
        "colab": {
          "base_uri": "https://localhost:8080/"
        },
        "id": "x8R1r9s1hBqP",
        "outputId": "65b6c610-ac0a-42dc-e2be-a524f0f0a8e2"
      },
      "execution_count": null,
      "outputs": [
        {
          "output_type": "stream",
          "name": "stdout",
          "text": [
            "{'This': 10, 'is': 10, 'first': 1, 'line.': 10, 'second': 1, 'third': 1, 'fourth': 1, 'fivth': 1, 'sixth': 1, 'seventh': 1, 'eigth': 1, 'ninth': 1, 'tenth': 1}\n",
            "{'These': 1, 'are': 1, 'days': 1, 'of': 1, 'the': 1, 'week.': 2, 'This': 7, 'is': 6, 'Monday.': 1, 'Tuesday.': 1, 'will': 3, 'be': 1, 'Wednesday.': 1, 'Thursday.': 1, 'Friday.': 1, 'Saturday.': 1, 'Sunday.': 1, 'I': 2, 'meet': 2, 'you': 2, 'tomorrow.': 1, 'next': 1}\n"
          ]
        }
      ]
    },
    {
      "cell_type": "code",
      "source": [
        "list_common_frequency =[]\n",
        "for i, j in dict1.items():\n",
        "  for k, l in dict2.items():\n",
        "    if(i == k):\n",
        "      a = min(j,l)\n",
        "      list_common_frequency.append(a)\n",
        "\n",
        "print(list_common_frequency)"
      ],
      "metadata": {
        "colab": {
          "base_uri": "https://localhost:8080/"
        },
        "id": "x4YNuwG4hIiB",
        "outputId": "82ed15db-d893-47fb-ce6f-eb4ae8fd9250"
      },
      "execution_count": null,
      "outputs": [
        {
          "output_type": "stream",
          "name": "stdout",
          "text": [
            "[7, 6]\n"
          ]
        }
      ]
    },
    {
      "cell_type": "code",
      "source": [
        "c = len(dict1)\n",
        "d = len(dict2)\n",
        "\n",
        "min_length = min(c, d)\n",
        "\n",
        "min_length"
      ],
      "metadata": {
        "colab": {
          "base_uri": "https://localhost:8080/"
        },
        "id": "3xHZ7aO-iYRp",
        "outputId": "d770b1bb-b2e8-4d78-9611-f52f72b934f2"
      },
      "execution_count": null,
      "outputs": [
        {
          "output_type": "execute_result",
          "data": {
            "text/plain": [
              "13"
            ]
          },
          "metadata": {},
          "execution_count": 6
        }
      ]
    },
    {
      "cell_type": "code",
      "source": [
        "plagarism = (sum(list_common_frequency)/min_length)*100\n",
        "\n",
        "plagarism"
      ],
      "metadata": {
        "colab": {
          "base_uri": "https://localhost:8080/"
        },
        "id": "TyoUvFTFjDpC",
        "outputId": "117453eb-85a6-44ec-b522-e9829d8746d4"
      },
      "execution_count": null,
      "outputs": [
        {
          "output_type": "execute_result",
          "data": {
            "text/plain": [
              "100.0"
            ]
          },
          "metadata": {},
          "execution_count": 9
        }
      ]
    }
  ]
}